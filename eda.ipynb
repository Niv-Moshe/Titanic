{
 "cells": [
  {
   "cell_type": "markdown",
   "metadata": {
    "pycharm": {
     "name": "#%% md\n"
    }
   },
   "source": [
    "# Exploratory data analysis for the titanic data"
   ]
  },
  {
   "cell_type": "code",
   "execution_count": 33,
   "outputs": [
    {
     "name": "stdout",
     "output_type": "stream",
     "text": [
      "Requirement already satisfied: powerlaw in c:\\users\\nivm2\\miniconda3\\envs\\python3.9_full\\lib\\site-packages (1.5)\n",
      "Requirement already satisfied: scipy in c:\\users\\nivm2\\miniconda3\\envs\\python3.9_full\\lib\\site-packages (from powerlaw) (1.7.3)\n",
      "Requirement already satisfied: matplotlib in c:\\users\\nivm2\\miniconda3\\envs\\python3.9_full\\lib\\site-packages (from powerlaw) (3.5.1)\n",
      "Requirement already satisfied: numpy in c:\\users\\nivm2\\miniconda3\\envs\\python3.9_full\\lib\\site-packages (from powerlaw) (1.21.5)\n",
      "Requirement already satisfied: mpmath in c:\\users\\nivm2\\miniconda3\\envs\\python3.9_full\\lib\\site-packages (from powerlaw) (1.2.1)\n",
      "Requirement already satisfied: pyparsing>=2.2.1 in c:\\users\\nivm2\\miniconda3\\envs\\python3.9_full\\lib\\site-packages (from matplotlib->powerlaw) (3.0.4)\n",
      "Requirement already satisfied: fonttools>=4.22.0 in c:\\users\\nivm2\\miniconda3\\envs\\python3.9_full\\lib\\site-packages (from matplotlib->powerlaw) (4.25.0)\n",
      "Requirement already satisfied: cycler>=0.10 in c:\\users\\nivm2\\miniconda3\\envs\\python3.9_full\\lib\\site-packages (from matplotlib->powerlaw) (0.11.0)\n",
      "Requirement already satisfied: pillow>=6.2.0 in c:\\users\\nivm2\\miniconda3\\envs\\python3.9_full\\lib\\site-packages (from matplotlib->powerlaw) (9.0.1)\n",
      "Requirement already satisfied: packaging>=20.0 in c:\\users\\nivm2\\miniconda3\\envs\\python3.9_full\\lib\\site-packages (from matplotlib->powerlaw) (21.3)\n",
      "Requirement already satisfied: kiwisolver>=1.0.1 in c:\\users\\nivm2\\miniconda3\\envs\\python3.9_full\\lib\\site-packages (from matplotlib->powerlaw) (1.3.2)\n",
      "Requirement already satisfied: python-dateutil>=2.7 in c:\\users\\nivm2\\miniconda3\\envs\\python3.9_full\\lib\\site-packages (from matplotlib->powerlaw) (2.8.2)\n",
      "Requirement already satisfied: six>=1.5 in c:\\users\\nivm2\\miniconda3\\envs\\python3.9_full\\lib\\site-packages (from python-dateutil>=2.7->matplotlib->powerlaw) (1.16.0)\n"
     ]
    }
   ],
   "source": [
    "!pip install powerlaw"
   ],
   "metadata": {
    "collapsed": false,
    "pycharm": {
     "name": "#%%\n"
    }
   }
  },
  {
   "cell_type": "code",
   "execution_count": 34,
   "outputs": [],
   "source": [
    "# imports here\n",
    "import pandas as pd\n",
    "import numpy as np\n",
    "from matplotlib import pyplot as plt\n",
    "import seaborn as sns\n",
    "from typing import List, Set, Dict, Tuple, Union\n",
    "import statsmodels.api as sm\n",
    "from scipy import stats\n",
    "import powerlaw\n",
    "import re\n",
    "import string"
   ],
   "metadata": {
    "collapsed": false,
    "pycharm": {
     "name": "#%%\n"
    }
   }
  },
  {
   "cell_type": "code",
   "execution_count": 35,
   "outputs": [
    {
     "data": {
      "text/plain": "     PassengerId  Survived  Pclass  \\\n0              1         0       3   \n1              2         1       1   \n2              3         1       3   \n3              4         1       1   \n4              5         0       3   \n..           ...       ...     ...   \n886          887         0       2   \n887          888         1       1   \n888          889         0       3   \n889          890         1       1   \n890          891         0       3   \n\n                                                  Name     Sex   Age  SibSp  \\\n0                              Braund, Mr. Owen Harris    male  22.0      1   \n1    Cumings, Mrs. John Bradley (Florence Briggs Th...  female  38.0      1   \n2                               Heikkinen, Miss. Laina  female  26.0      0   \n3         Futrelle, Mrs. Jacques Heath (Lily May Peel)  female  35.0      1   \n4                             Allen, Mr. William Henry    male  35.0      0   \n..                                                 ...     ...   ...    ...   \n886                              Montvila, Rev. Juozas    male  27.0      0   \n887                       Graham, Miss. Margaret Edith  female  19.0      0   \n888           Johnston, Miss. Catherine Helen \"Carrie\"  female   NaN      1   \n889                              Behr, Mr. Karl Howell    male  26.0      0   \n890                                Dooley, Mr. Patrick    male  32.0      0   \n\n     Parch            Ticket     Fare Cabin Embarked  \n0        0         A/5 21171   7.2500   NaN        S  \n1        0          PC 17599  71.2833   C85        C  \n2        0  STON/O2. 3101282   7.9250   NaN        S  \n3        0            113803  53.1000  C123        S  \n4        0            373450   8.0500   NaN        S  \n..     ...               ...      ...   ...      ...  \n886      0            211536  13.0000   NaN        S  \n887      0            112053  30.0000   B42        S  \n888      2        W./C. 6607  23.4500   NaN        S  \n889      0            111369  30.0000  C148        C  \n890      0            370376   7.7500   NaN        Q  \n\n[891 rows x 12 columns]",
      "text/html": "<div>\n<style scoped>\n    .dataframe tbody tr th:only-of-type {\n        vertical-align: middle;\n    }\n\n    .dataframe tbody tr th {\n        vertical-align: top;\n    }\n\n    .dataframe thead th {\n        text-align: right;\n    }\n</style>\n<table border=\"1\" class=\"dataframe\">\n  <thead>\n    <tr style=\"text-align: right;\">\n      <th></th>\n      <th>PassengerId</th>\n      <th>Survived</th>\n      <th>Pclass</th>\n      <th>Name</th>\n      <th>Sex</th>\n      <th>Age</th>\n      <th>SibSp</th>\n      <th>Parch</th>\n      <th>Ticket</th>\n      <th>Fare</th>\n      <th>Cabin</th>\n      <th>Embarked</th>\n    </tr>\n  </thead>\n  <tbody>\n    <tr>\n      <th>0</th>\n      <td>1</td>\n      <td>0</td>\n      <td>3</td>\n      <td>Braund, Mr. Owen Harris</td>\n      <td>male</td>\n      <td>22.0</td>\n      <td>1</td>\n      <td>0</td>\n      <td>A/5 21171</td>\n      <td>7.2500</td>\n      <td>NaN</td>\n      <td>S</td>\n    </tr>\n    <tr>\n      <th>1</th>\n      <td>2</td>\n      <td>1</td>\n      <td>1</td>\n      <td>Cumings, Mrs. John Bradley (Florence Briggs Th...</td>\n      <td>female</td>\n      <td>38.0</td>\n      <td>1</td>\n      <td>0</td>\n      <td>PC 17599</td>\n      <td>71.2833</td>\n      <td>C85</td>\n      <td>C</td>\n    </tr>\n    <tr>\n      <th>2</th>\n      <td>3</td>\n      <td>1</td>\n      <td>3</td>\n      <td>Heikkinen, Miss. Laina</td>\n      <td>female</td>\n      <td>26.0</td>\n      <td>0</td>\n      <td>0</td>\n      <td>STON/O2. 3101282</td>\n      <td>7.9250</td>\n      <td>NaN</td>\n      <td>S</td>\n    </tr>\n    <tr>\n      <th>3</th>\n      <td>4</td>\n      <td>1</td>\n      <td>1</td>\n      <td>Futrelle, Mrs. Jacques Heath (Lily May Peel)</td>\n      <td>female</td>\n      <td>35.0</td>\n      <td>1</td>\n      <td>0</td>\n      <td>113803</td>\n      <td>53.1000</td>\n      <td>C123</td>\n      <td>S</td>\n    </tr>\n    <tr>\n      <th>4</th>\n      <td>5</td>\n      <td>0</td>\n      <td>3</td>\n      <td>Allen, Mr. William Henry</td>\n      <td>male</td>\n      <td>35.0</td>\n      <td>0</td>\n      <td>0</td>\n      <td>373450</td>\n      <td>8.0500</td>\n      <td>NaN</td>\n      <td>S</td>\n    </tr>\n    <tr>\n      <th>...</th>\n      <td>...</td>\n      <td>...</td>\n      <td>...</td>\n      <td>...</td>\n      <td>...</td>\n      <td>...</td>\n      <td>...</td>\n      <td>...</td>\n      <td>...</td>\n      <td>...</td>\n      <td>...</td>\n      <td>...</td>\n    </tr>\n    <tr>\n      <th>886</th>\n      <td>887</td>\n      <td>0</td>\n      <td>2</td>\n      <td>Montvila, Rev. Juozas</td>\n      <td>male</td>\n      <td>27.0</td>\n      <td>0</td>\n      <td>0</td>\n      <td>211536</td>\n      <td>13.0000</td>\n      <td>NaN</td>\n      <td>S</td>\n    </tr>\n    <tr>\n      <th>887</th>\n      <td>888</td>\n      <td>1</td>\n      <td>1</td>\n      <td>Graham, Miss. Margaret Edith</td>\n      <td>female</td>\n      <td>19.0</td>\n      <td>0</td>\n      <td>0</td>\n      <td>112053</td>\n      <td>30.0000</td>\n      <td>B42</td>\n      <td>S</td>\n    </tr>\n    <tr>\n      <th>888</th>\n      <td>889</td>\n      <td>0</td>\n      <td>3</td>\n      <td>Johnston, Miss. Catherine Helen \"Carrie\"</td>\n      <td>female</td>\n      <td>NaN</td>\n      <td>1</td>\n      <td>2</td>\n      <td>W./C. 6607</td>\n      <td>23.4500</td>\n      <td>NaN</td>\n      <td>S</td>\n    </tr>\n    <tr>\n      <th>889</th>\n      <td>890</td>\n      <td>1</td>\n      <td>1</td>\n      <td>Behr, Mr. Karl Howell</td>\n      <td>male</td>\n      <td>26.0</td>\n      <td>0</td>\n      <td>0</td>\n      <td>111369</td>\n      <td>30.0000</td>\n      <td>C148</td>\n      <td>C</td>\n    </tr>\n    <tr>\n      <th>890</th>\n      <td>891</td>\n      <td>0</td>\n      <td>3</td>\n      <td>Dooley, Mr. Patrick</td>\n      <td>male</td>\n      <td>32.0</td>\n      <td>0</td>\n      <td>0</td>\n      <td>370376</td>\n      <td>7.7500</td>\n      <td>NaN</td>\n      <td>Q</td>\n    </tr>\n  </tbody>\n</table>\n<p>891 rows × 12 columns</p>\n</div>"
     },
     "execution_count": 35,
     "metadata": {},
     "output_type": "execute_result"
    }
   ],
   "source": [
    "titanic = pd.read_csv('data/train.csv')\n",
    "titanic"
   ],
   "metadata": {
    "collapsed": false,
    "pycharm": {
     "name": "#%%\n"
    }
   }
  },
  {
   "cell_type": "code",
   "execution_count": 36,
   "outputs": [
    {
     "name": "stdout",
     "output_type": "stream",
     "text": [
      "['PassengerId', 'Survived', 'Pclass', 'Name', 'Sex', 'Age', 'SibSp', 'Parch', 'Ticket', 'Fare', 'Cabin', 'Embarked']\n"
     ]
    }
   ],
   "source": [
    "print(list(titanic.columns))"
   ],
   "metadata": {
    "collapsed": false,
    "pycharm": {
     "name": "#%%\n"
    }
   }
  },
  {
   "cell_type": "code",
   "execution_count": 37,
   "outputs": [],
   "source": [
    "features = ['Pclass', 'Name', 'Sex', 'Age', 'SibSp', 'Parch', 'Ticket', 'Fare', 'Cabin', 'Embarked']"
   ],
   "metadata": {
    "collapsed": false,
    "pycharm": {
     "name": "#%%\n"
    }
   }
  },
  {
   "cell_type": "markdown",
   "source": [
    "## Description of data columns:\n",
    "1. Survived: Survived - 0 = No; 1 = Yes\n",
    "2. Pclass: Ticket Class - 1 = 1st; 2 = 2nd; 3 = 3rd\n",
    "3. Name: full name of passenger (including titles - Mr., Mrs., Miss, and Ms.)\n",
    "4. Sex: male or female\n",
    "5. Age: Age in years\n",
    "6. SibSp: Number of siblings/spouses aboard the Titanic\n",
    "7. Parch: Number of parents/children aboard the Titanic\n",
    "8. Ticket: Ticket number\n",
    "9. Fare: Passenger fare (how much paid for the cruise)\n",
    "10. Cabin: Cabin number (titanic had 10 decks/floors - should be correlated with pclass somehow - my note)\n",
    "11. Embarked: Port of Embarkation - C = Cherbourg, Q = Queenstown, S = Southampton\n",
    "\n",
    "\n",
    "### number of rows in train: 891"
   ],
   "metadata": {
    "collapsed": false,
    "pycharm": {
     "name": "#%% md\n"
    }
   }
  },
  {
   "cell_type": "markdown",
   "source": [
    "## Variable Notes\n",
    "pclass: A proxy for socio-economic status (SES)\n",
    "1st = Upper\n",
    "2nd = Middle\n",
    "3rd = Lower\n",
    "\n",
    "age: Age is fractional if less than 1. If the age is estimated, is it in the form of xx.5\n",
    "\n",
    "sibsp: The dataset defines family relations in this way...\n",
    "Sibling = brother, sister, stepbrother, stepsister\n",
    "Spouse = husband, wife (mistresses and fiancés were ignored)\n",
    "\n",
    "parch: The dataset defines family relations in this way...\n",
    "Parent = mother, father\n",
    "Child = daughter, son, stepdaughter, stepson\n",
    "Some children travelled only with a nanny, therefore parch=0 for them.\n",
    "\n",
    "## Notes of mine to examine\n",
    "1. Titanic sank at night (2:20 a.m.) which means probably a lot of passengers were in their cabins, which gives upper decks/floors advantage in surviving - strong relation to cabin and pclass.\n",
    "2. Most of passengers didn't survive, usually priority in evacuation is given to elders, children and women - could be of use\n",
    "3. Internet says it took 160 minutes (2 hours and 40 minutes) the Titanic to sink - if priority was given then elders, children and women were saved widely."
   ],
   "metadata": {
    "collapsed": false,
    "pycharm": {
     "name": "#%% md\n"
    }
   }
  },
  {
   "cell_type": "code",
   "execution_count": 38,
   "outputs": [
    {
     "name": "stdout",
     "output_type": "stream",
     "text": [
      "<class 'pandas.core.frame.DataFrame'>\n",
      "RangeIndex: 891 entries, 0 to 890\n",
      "Data columns (total 12 columns):\n",
      " #   Column       Non-Null Count  Dtype  \n",
      "---  ------       --------------  -----  \n",
      " 0   PassengerId  891 non-null    int64  \n",
      " 1   Survived     891 non-null    int64  \n",
      " 2   Pclass       891 non-null    int64  \n",
      " 3   Name         891 non-null    object \n",
      " 4   Sex          891 non-null    object \n",
      " 5   Age          714 non-null    float64\n",
      " 6   SibSp        891 non-null    int64  \n",
      " 7   Parch        891 non-null    int64  \n",
      " 8   Ticket       891 non-null    object \n",
      " 9   Fare         891 non-null    float64\n",
      " 10  Cabin        204 non-null    object \n",
      " 11  Embarked     889 non-null    object \n",
      "dtypes: float64(2), int64(5), object(5)\n",
      "memory usage: 83.7+ KB\n"
     ]
    }
   ],
   "source": [
    "titanic.info()"
   ],
   "metadata": {
    "collapsed": false,
    "pycharm": {
     "name": "#%%\n"
    }
   }
  },
  {
   "cell_type": "code",
   "execution_count": 39,
   "outputs": [
    {
     "name": "stdout",
     "output_type": "stream",
     "text": [
      "Total number of passengers=891, survived=342, survived percentage=0.384\n"
     ]
    }
   ],
   "source": [
    "num_passengers = len(titanic)\n",
    "num_survived = len(titanic[titanic['Survived'] == 1])\n",
    "survived_pct = num_survived / num_passengers\n",
    "print(f\"Total number of passengers={num_passengers}, survived={num_survived}, survived percentage={survived_pct:.3f}\")"
   ],
   "metadata": {
    "collapsed": false,
    "pycharm": {
     "name": "#%%\n"
    }
   }
  },
  {
   "cell_type": "markdown",
   "source": [
    "### General statistics on the dataset"
   ],
   "metadata": {
    "collapsed": false,
    "pycharm": {
     "name": "#%% md\n"
    }
   }
  },
  {
   "cell_type": "code",
   "execution_count": 40,
   "outputs": [
    {
     "data": {
      "text/plain": "      PassengerId Survived   Pclass      Age    SibSp    Parch     Fare\ncount     891.000  891.000  891.000  714.000  891.000  891.000  891.000\nmean      446.000    0.384    2.309   29.699    0.523    0.382   32.204\nstd       257.354    0.487    0.836   14.526    1.103    0.806   49.693\nmin         1.000    0.000    1.000    0.420    0.000    0.000    0.000\n25%       223.500    0.000    2.000   20.125    0.000    0.000    7.910\n50%       446.000    0.000    3.000   28.000    0.000    0.000   14.454\n75%       668.500    1.000    3.000   38.000    1.000    0.000   31.000\nmax       891.000    1.000    3.000   80.000    8.000    6.000  512.329",
      "text/html": "<div>\n<style scoped>\n    .dataframe tbody tr th:only-of-type {\n        vertical-align: middle;\n    }\n\n    .dataframe tbody tr th {\n        vertical-align: top;\n    }\n\n    .dataframe thead th {\n        text-align: right;\n    }\n</style>\n<table border=\"1\" class=\"dataframe\">\n  <thead>\n    <tr style=\"text-align: right;\">\n      <th></th>\n      <th>PassengerId</th>\n      <th>Survived</th>\n      <th>Pclass</th>\n      <th>Age</th>\n      <th>SibSp</th>\n      <th>Parch</th>\n      <th>Fare</th>\n    </tr>\n  </thead>\n  <tbody>\n    <tr>\n      <th>count</th>\n      <td>891.000</td>\n      <td>891.000</td>\n      <td>891.000</td>\n      <td>714.000</td>\n      <td>891.000</td>\n      <td>891.000</td>\n      <td>891.000</td>\n    </tr>\n    <tr>\n      <th>mean</th>\n      <td>446.000</td>\n      <td>0.384</td>\n      <td>2.309</td>\n      <td>29.699</td>\n      <td>0.523</td>\n      <td>0.382</td>\n      <td>32.204</td>\n    </tr>\n    <tr>\n      <th>std</th>\n      <td>257.354</td>\n      <td>0.487</td>\n      <td>0.836</td>\n      <td>14.526</td>\n      <td>1.103</td>\n      <td>0.806</td>\n      <td>49.693</td>\n    </tr>\n    <tr>\n      <th>min</th>\n      <td>1.000</td>\n      <td>0.000</td>\n      <td>1.000</td>\n      <td>0.420</td>\n      <td>0.000</td>\n      <td>0.000</td>\n      <td>0.000</td>\n    </tr>\n    <tr>\n      <th>25%</th>\n      <td>223.500</td>\n      <td>0.000</td>\n      <td>2.000</td>\n      <td>20.125</td>\n      <td>0.000</td>\n      <td>0.000</td>\n      <td>7.910</td>\n    </tr>\n    <tr>\n      <th>50%</th>\n      <td>446.000</td>\n      <td>0.000</td>\n      <td>3.000</td>\n      <td>28.000</td>\n      <td>0.000</td>\n      <td>0.000</td>\n      <td>14.454</td>\n    </tr>\n    <tr>\n      <th>75%</th>\n      <td>668.500</td>\n      <td>1.000</td>\n      <td>3.000</td>\n      <td>38.000</td>\n      <td>1.000</td>\n      <td>0.000</td>\n      <td>31.000</td>\n    </tr>\n    <tr>\n      <th>max</th>\n      <td>891.000</td>\n      <td>1.000</td>\n      <td>3.000</td>\n      <td>80.000</td>\n      <td>8.000</td>\n      <td>6.000</td>\n      <td>512.329</td>\n    </tr>\n  </tbody>\n</table>\n</div>"
     },
     "execution_count": 40,
     "metadata": {},
     "output_type": "execute_result"
    }
   ],
   "source": [
    "titanic.describe().applymap(lambda x: f\"{x:0.3f}\")"
   ],
   "metadata": {
    "collapsed": false,
    "pycharm": {
     "name": "#%%\n"
    }
   }
  },
  {
   "cell_type": "code",
   "execution_count": 41,
   "outputs": [
    {
     "name": "stdout",
     "output_type": "stream",
     "text": [
      "Missig values count and percent for each feature\n"
     ]
    },
    {
     "data": {
      "text/plain": "             Total   Percent\nCabin          687  0.771044\nAge            177  0.198653\nEmbarked         2  0.002245\nPassengerId      0  0.000000\nSurvived         0  0.000000\nPclass           0  0.000000\nName             0  0.000000\nSex              0  0.000000\nSibSp            0  0.000000\nParch            0  0.000000\nTicket           0  0.000000\nFare             0  0.000000",
      "text/html": "<div>\n<style scoped>\n    .dataframe tbody tr th:only-of-type {\n        vertical-align: middle;\n    }\n\n    .dataframe tbody tr th {\n        vertical-align: top;\n    }\n\n    .dataframe thead th {\n        text-align: right;\n    }\n</style>\n<table border=\"1\" class=\"dataframe\">\n  <thead>\n    <tr style=\"text-align: right;\">\n      <th></th>\n      <th>Total</th>\n      <th>Percent</th>\n    </tr>\n  </thead>\n  <tbody>\n    <tr>\n      <th>Cabin</th>\n      <td>687</td>\n      <td>0.771044</td>\n    </tr>\n    <tr>\n      <th>Age</th>\n      <td>177</td>\n      <td>0.198653</td>\n    </tr>\n    <tr>\n      <th>Embarked</th>\n      <td>2</td>\n      <td>0.002245</td>\n    </tr>\n    <tr>\n      <th>PassengerId</th>\n      <td>0</td>\n      <td>0.000000</td>\n    </tr>\n    <tr>\n      <th>Survived</th>\n      <td>0</td>\n      <td>0.000000</td>\n    </tr>\n    <tr>\n      <th>Pclass</th>\n      <td>0</td>\n      <td>0.000000</td>\n    </tr>\n    <tr>\n      <th>Name</th>\n      <td>0</td>\n      <td>0.000000</td>\n    </tr>\n    <tr>\n      <th>Sex</th>\n      <td>0</td>\n      <td>0.000000</td>\n    </tr>\n    <tr>\n      <th>SibSp</th>\n      <td>0</td>\n      <td>0.000000</td>\n    </tr>\n    <tr>\n      <th>Parch</th>\n      <td>0</td>\n      <td>0.000000</td>\n    </tr>\n    <tr>\n      <th>Ticket</th>\n      <td>0</td>\n      <td>0.000000</td>\n    </tr>\n    <tr>\n      <th>Fare</th>\n      <td>0</td>\n      <td>0.000000</td>\n    </tr>\n  </tbody>\n</table>\n</div>"
     },
     "execution_count": 41,
     "metadata": {},
     "output_type": "execute_result"
    }
   ],
   "source": [
    "print(\"Missig values count and percent for each feature\")\n",
    "total = titanic.isnull().sum().sort_values(ascending=False)\n",
    "percent = (titanic.isnull().sum() / titanic.isnull().count()).sort_values(ascending=False)\n",
    "missing_data = pd.concat([total, percent], axis=1, keys=['Total', 'Percent'])\n",
    "missing_data"
   ],
   "metadata": {
    "collapsed": false,
    "pycharm": {
     "name": "#%%\n"
    }
   }
  },
  {
   "cell_type": "markdown",
   "source": [
    "### Issues List For the Dataset\n",
    "-  Missing values in several columns: Cabin, Age and Embarked (maybe dropping Cabin column)\n",
    "-  Processing string columns to numeric"
   ],
   "metadata": {
    "collapsed": false,
    "pycharm": {
     "name": "#%% md\n"
    }
   }
  },
  {
   "cell_type": "markdown",
   "source": [
    "# 1. Univariate Analysis: Examining each feature's statistics"
   ],
   "metadata": {
    "collapsed": false,
    "pycharm": {
     "name": "#%% md\n"
    }
   }
  },
  {
   "cell_type": "markdown",
   "source": [
    "### Categorical features functions"
   ],
   "metadata": {
    "collapsed": false,
    "pycharm": {
     "name": "#%% md\n"
    }
   }
  },
  {
   "cell_type": "code",
   "execution_count": 42,
   "outputs": [],
   "source": [
    "# Pie\n",
    "def make_autopct(values):\n",
    "    # custom function of printing in the pie chart\n",
    "    def my_autopct(pct):\n",
    "        total = sum(values)\n",
    "        val = int(round(pct*total/100.0))\n",
    "        return '{p:.2f}%\\n({v:d})'.format(p=pct,v=val)\n",
    "    return my_autopct\n",
    "\n",
    "def pie_chart(df: pd.DataFrame, feature: str, categories: Union[List[str], List[int]]) -> None:\n",
    "    # plotting counts and percentages of each category\n",
    "    counts_per_category = [df[df[feature] == category].count()[feature] for category in categories]\n",
    "    # Creating plot\n",
    "    fig = plt.figure(figsize =(8, 5))\n",
    "    plt.pie(counts_per_category, labels=categories, autopct=make_autopct(counts_per_category), textprops={'fontsize': 14})\n",
    "    plt.suptitle(feature, fontsize=18);"
   ],
   "metadata": {
    "collapsed": false,
    "pycharm": {
     "name": "#%%\n"
    }
   }
  },
  {
   "cell_type": "code",
   "execution_count": 43,
   "outputs": [],
   "source": [
    "# calculate for each category count and percent (probably too much categories for pie chart)\n",
    "def create_df_for_numeric_cateforical(df: pd.DataFrame, feature: str) -> pd.DataFrame:\n",
    "    # using PassengerId because it has no missing values\n",
    "    count_per_value = titanic[['PassengerId', feature]].groupby(feature).count()\n",
    "    count_per_value.rename(columns={'PassengerId': 'Count'}, inplace=True)\n",
    "    count_per_value['Percent'] = count_per_value['Count'] / count_per_value['Count'].sum()\n",
    "    count_per_value.sort_values(by=['Count'], ascending=False, inplace=True)\n",
    "    return count_per_value"
   ],
   "metadata": {
    "collapsed": false,
    "pycharm": {
     "name": "#%%\n"
    }
   }
  },
  {
   "cell_type": "code",
   "execution_count": 44,
   "outputs": [],
   "source": [
    "def count_plot(df: pd.DataFrame, feature: str) -> None:\n",
    "    # sns.countplot(data=df, y=feature)\n",
    "    df[feature].value_counts(normalize=True, ascending=True).plot.barh()\n",
    "    plt.title(f'Normalized Counts per Category of {feature}')\n",
    "    plt.xlabel('Count')\n",
    "    plt.ylabel(feature)\n",
    "    plt.show();"
   ],
   "metadata": {
    "collapsed": false,
    "pycharm": {
     "name": "#%%\n"
    }
   }
  },
  {
   "cell_type": "markdown",
   "source": [
    "### Continous features functions"
   ],
   "metadata": {
    "collapsed": false,
    "pycharm": {
     "name": "#%% md\n"
    }
   }
  },
  {
   "cell_type": "code",
   "execution_count": 45,
   "outputs": [],
   "source": [
    "# Histogram\n",
    "def hist_and_kde(df: pd.DataFrame, feature: str) -> None:\n",
    "    # data distribution of feature and kernel density estimation of it\n",
    "    sns.histplot(df[feature].dropna(), kde=True, bins=30, stat=\"density\", linewidth=0)\n",
    "    plt.title(f'Histogram of {feature}')\n",
    "    plt.xlabel(feature)\n",
    "    plt.ylabel('Density')\n",
    "    plt.show();"
   ],
   "metadata": {
    "collapsed": false,
    "pycharm": {
     "name": "#%%\n"
    }
   }
  },
  {
   "cell_type": "code",
   "execution_count": 46,
   "outputs": [],
   "source": [
    "def skewness_and_kurtosis(df: pd.DataFrame, feature: str) -> None:\n",
    "    # Skewness as measure of symmetry (lack of symmetry)\n",
    "    print(f\"Skewness: {df[feature].skew():.3f}\")\n",
    "    # Kurtosis as a measure of whether the data are heavy-tailed or light-tailed relative to a normal distribution\n",
    "    print(f\"Kurtosis: {df[feature].kurt():.3f}\")"
   ],
   "metadata": {
    "collapsed": false,
    "pycharm": {
     "name": "#%%\n"
    }
   }
  },
  {
   "cell_type": "code",
   "execution_count": 47,
   "outputs": [],
   "source": [
    "def qqplot(df: pd.DataFrame, feature: str) -> None:\n",
    "    # dropping nans for qqplot (normal distribturion)\n",
    "    fig = sm.qqplot(df[feature].dropna(), line=\"s\", fit=True)\n",
    "    plt.title(f'QQ-plot of {feature}')\n",
    "    plt.show();\n",
    "    del fig"
   ],
   "metadata": {
    "collapsed": false,
    "pycharm": {
     "name": "#%%\n"
    }
   }
  },
  {
   "cell_type": "code",
   "execution_count": 48,
   "outputs": [],
   "source": [
    "def log_log_plot(df: pd.DataFrame, feature: str) -> None:\n",
    "    # log log plot for checking powerlaw distribution (similar concept to qqplot)\n",
    "    fit = powerlaw.Fit(df[feature].dropna())\n",
    "    fit.power_law.plot_pdf(color='r', linestyle='--')\n",
    "    fit.plot_pdf(color='blue', label=feature)\n",
    "    plt.title(f'Log-log of {feature}')\n",
    "    plt.xlabel(f'log {feature}')\n",
    "    plt.ylabel('log Count')\n",
    "    plt.show();\n",
    "    del fit"
   ],
   "metadata": {
    "collapsed": false,
    "pycharm": {
     "name": "#%%\n"
    }
   }
  },
  {
   "cell_type": "code",
   "execution_count": 49,
   "outputs": [],
   "source": [
    "def normality_tests(df: pd.DataFrame, feature: str) -> pd.DataFrame:\n",
    "    # df of p values (normal tests) for feature - null hypothesis: data is normally distributed\n",
    "    statistic_shapiro, p_value_shapiro = stats.shapiro(df[feature].dropna())\n",
    "    # normaltest is based on Skewness and Kurtosis\n",
    "    statistic_normaltest, p_value_normaltest = stats.normaltest(df[feature], nan_policy='omit')\n",
    "    statistic_chisquare, p_value_chisquare = stats.chisquare(df[feature].dropna())\n",
    "    normal_tests_df = pd.DataFrame(data={'shapiro': [p_value_shapiro], 'normaltest': [p_value_normaltest], \n",
    "                                         'chisquare': [p_value_chisquare]}, index=[feature])\n",
    "    return normal_tests_df"
   ],
   "metadata": {
    "collapsed": false,
    "pycharm": {
     "name": "#%%\n"
    }
   }
  },
  {
   "cell_type": "code",
   "execution_count": 50,
   "outputs": [],
   "source": [
    "# Boxplot\n",
    "def boxplot_and_outliers(df: pd.DataFrame, feature: str) -> None:\n",
    "    # data distribution and outliers identifying using boxplot\n",
    "    figure, ax = plt.subplots(figsize=(7, 6))\n",
    "    sns.boxplot(x=feature, data=df).set_title(f'{feature} Boxplot', fontsize=16);\n",
    "    ax.set_xlabel(feature, fontdict={'fontsize': 14})\n",
    "    ax.set_ylabel('distribution', {'fontsize': 14});\n",
    "    \n",
    "    # boxplot outliers definition - dropping nans is required for calculating\n",
    "    Q1 = np.percentile(df[feature].dropna().values, 25)  # Q1\n",
    "    Q3 = np.percentile(df[feature].dropna().values, 75)  # Q3\n",
    "    IQR = Q3 - Q1  # interquartile range\n",
    "    lower_whisker = Q1 - 1.5 * IQR\n",
    "    upper_whisker = Q3 + 1.5 * IQR\n",
    "    print(f'The interquartile range: [{Q1}, {Q3}]')\n",
    "    print(f'The outliers\\' bounds are: lower bound={lower_whisker:.3f}, upper bound={upper_whisker:.3f}')"
   ],
   "metadata": {
    "collapsed": false,
    "pycharm": {
     "name": "#%%\n"
    }
   }
  },
  {
   "cell_type": "markdown",
   "source": [
    "## Pclass"
   ],
   "metadata": {
    "collapsed": false,
    "pycharm": {
     "name": "#%% md\n"
    }
   }
  },
  {
   "cell_type": "code",
   "execution_count": 51,
   "outputs": [
    {
     "data": {
      "text/plain": "<Figure size 576x360 with 1 Axes>",
      "image/png": "[encoded data removed]"
     },
     "metadata": {},
     "output_type": "display_data"
    }
   ],
   "source": [
    "pie_chart(titanic, feature='Pclass', categories=[1, 2, 3])"
   ],
   "metadata": {
    "collapsed": false,
    "pycharm": {
     "name": "#%%\n"
    }
   }
  },
  {
   "cell_type": "markdown",
   "source": [
    "###### Pclass explained:\n",
    "As seen from a cell above we do not have any missing data on the Pclass attribute.\n",
    "\n",
    "We can see that there is an imbalance in the partition according to Pclass and more than half of the passengers are of the 3rd (lowest \"socio-economic status\" class), the rest of the passengers divide pretty evenly between the first two classes (a slight difference of approximately 20 passengers - about 4%)."
   ],
   "metadata": {
    "collapsed": false,
    "pycharm": {
     "name": "#%% md\n"
    }
   }
  },
  {
   "cell_type": "markdown",
   "source": [
    "## Name"
   ],
   "metadata": {
    "collapsed": false,
    "pycharm": {
     "name": "#%% md\n"
    }
   }
  },
  {
   "cell_type": "code",
   "execution_count": 52,
   "outputs": [],
   "source": [
    "def find_honorifics(name: str) -> str:\n",
    "    honorific_names = r'(?:Mrs|Mr|Ms|Miss|Master|Don|Rev|Mme|Major|Mlle|Col|Capt|Jonkheer|Countess|Dr)\\.?'\n",
    "    honorific = re.findall(honorific_names, name)\n",
    "    if not honorific:  # empty list - no honorific found\n",
    "        return 'non_honorific'\n",
    "    honorific = honorific[0]  # findall returns a list - in our case list of single string\n",
    "    honorific = honorific.split()[0]  # the string contains the honorific in first place if exists\n",
    "    honorific = honorific.replace('.', '')\n",
    "    return honorific"
   ],
   "metadata": {
    "collapsed": false,
    "pycharm": {
     "name": "#%%\n"
    }
   }
  },
  {
   "cell_type": "code",
   "execution_count": 53,
   "outputs": [
    {
     "data": {
      "text/plain": "Empty DataFrame\nColumns: [PassengerId, Survived, Pclass, Name, Sex, Age, SibSp, Parch, Ticket, Fare, Cabin, Embarked, Honorifics]\nIndex: []",
      "text/html": "<div>\n<style scoped>\n    .dataframe tbody tr th:only-of-type {\n        vertical-align: middle;\n    }\n\n    .dataframe tbody tr th {\n        vertical-align: top;\n    }\n\n    .dataframe thead th {\n        text-align: right;\n    }\n</style>\n<table border=\"1\" class=\"dataframe\">\n  <thead>\n    <tr style=\"text-align: right;\">\n      <th></th>\n      <th>PassengerId</th>\n      <th>Survived</th>\n      <th>Pclass</th>\n      <th>Name</th>\n      <th>Sex</th>\n      <th>Age</th>\n      <th>SibSp</th>\n      <th>Parch</th>\n      <th>Ticket</th>\n      <th>Fare</th>\n      <th>Cabin</th>\n      <th>Embarked</th>\n      <th>Honorifics</th>\n    </tr>\n  </thead>\n  <tbody>\n  </tbody>\n</table>\n</div>"
     },
     "execution_count": 53,
     "metadata": {},
     "output_type": "execute_result"
    }
   ],
   "source": [
    "titanic['Honorifics'] = titanic['Name'].apply(lambda name: find_honorifics(name))\n",
    "# checking if honorific succeeded for all passengers\n",
    "all_non_honorifics = titanic[titanic['Honorifics'] == 'non_honorific']\n",
    "all_non_honorifics"
   ],
   "metadata": {
    "collapsed": false,
    "pycharm": {
     "name": "#%%\n"
    }
   }
  },
  {
   "cell_type": "code",
   "execution_count": 54,
   "outputs": [
    {
     "data": {
      "text/plain": "<Figure size 432x288 with 1 Axes>",
      "image/png": "[encoded data removed]"
     },
     "metadata": {},
     "output_type": "display_data"
    }
   ],
   "source": [
    "count_plot(titanic, 'Honorifics')"
   ],
   "metadata": {
    "collapsed": false,
    "pycharm": {
     "name": "#%%\n"
    }
   }
  },
  {
   "cell_type": "code",
   "execution_count": 55,
   "outputs": [
    {
     "data": {
      "text/plain": "            Count   Percent\nHonorifics                 \nMr            511  0.573513\nMiss          180  0.202020\nMrs           124  0.139169\nMaster         40  0.044893\nCol            10  0.011223\nDr             10  0.011223\nRev             6  0.006734\nMajor           2  0.002245\nMlle            2  0.002245\nCapt            1  0.001122\nCountess        1  0.001122\nDon             1  0.001122\nJonkheer        1  0.001122\nMme             1  0.001122\nMs              1  0.001122",
      "text/html": "<div>\n<style scoped>\n    .dataframe tbody tr th:only-of-type {\n        vertical-align: middle;\n    }\n\n    .dataframe tbody tr th {\n        vertical-align: top;\n    }\n\n    .dataframe thead th {\n        text-align: right;\n    }\n</style>\n<table border=\"1\" class=\"dataframe\">\n  <thead>\n    <tr style=\"text-align: right;\">\n      <th></th>\n      <th>Count</th>\n      <th>Percent</th>\n    </tr>\n    <tr>\n      <th>Honorifics</th>\n      <th></th>\n      <th></th>\n    </tr>\n  </thead>\n  <tbody>\n    <tr>\n      <th>Mr</th>\n      <td>511</td>\n      <td>0.573513</td>\n    </tr>\n    <tr>\n      <th>Miss</th>\n      <td>180</td>\n      <td>0.202020</td>\n    </tr>\n    <tr>\n      <th>Mrs</th>\n      <td>124</td>\n      <td>0.139169</td>\n    </tr>\n    <tr>\n      <th>Master</th>\n      <td>40</td>\n      <td>0.044893</td>\n    </tr>\n    <tr>\n      <th>Col</th>\n      <td>10</td>\n      <td>0.011223</td>\n    </tr>\n    <tr>\n      <th>Dr</th>\n      <td>10</td>\n      <td>0.011223</td>\n    </tr>\n    <tr>\n      <th>Rev</th>\n      <td>6</td>\n      <td>0.006734</td>\n    </tr>\n    <tr>\n      <th>Major</th>\n      <td>2</td>\n      <td>0.002245</td>\n    </tr>\n    <tr>\n      <th>Mlle</th>\n      <td>2</td>\n      <td>0.002245</td>\n    </tr>\n    <tr>\n      <th>Capt</th>\n      <td>1</td>\n      <td>0.001122</td>\n    </tr>\n    <tr>\n      <th>Countess</th>\n      <td>1</td>\n      <td>0.001122</td>\n    </tr>\n    <tr>\n      <th>Don</th>\n      <td>1</td>\n      <td>0.001122</td>\n    </tr>\n    <tr>\n      <th>Jonkheer</th>\n      <td>1</td>\n      <td>0.001122</td>\n    </tr>\n    <tr>\n      <th>Mme</th>\n      <td>1</td>\n      <td>0.001122</td>\n    </tr>\n    <tr>\n      <th>Ms</th>\n      <td>1</td>\n      <td>0.001122</td>\n    </tr>\n  </tbody>\n</table>\n</div>"
     },
     "execution_count": 55,
     "metadata": {},
     "output_type": "execute_result"
    }
   ],
   "source": [
    "create_df_for_numeric_cateforical(titanic, 'Honorifics')"
   ],
   "metadata": {
    "collapsed": false,
    "pycharm": {
     "name": "#%%\n"
    }
   }
  },
  {
   "cell_type": "markdown",
   "source": [
    "###### Name\\Honorifics explained:\n",
    "As seen from a cell above we do not have any missing data on the Name attribute.\n",
    "\n",
    "From the names honorifics we conclude there are more males than females on board. In addition most people's honorifics are of regular (\"common\") types and not of a noble kind such as Countess. Furthermore, we see that there are some soldiers\\veterans on board too, maybe their training could help them survive."
   ],
   "metadata": {
    "collapsed": false,
    "pycharm": {
     "name": "#%% md\n"
    }
   }
  },
  {
   "cell_type": "markdown",
   "source": [
    "## Sex"
   ],
   "metadata": {
    "collapsed": false,
    "pycharm": {
     "name": "#%% md\n"
    }
   }
  },
  {
   "cell_type": "code",
   "execution_count": 56,
   "outputs": [
    {
     "data": {
      "text/plain": "<Figure size 576x360 with 1 Axes>",
      "image/png": "[encoded data removed]"
     },
     "metadata": {},
     "output_type": "display_data"
    }
   ],
   "source": [
    "pie_chart(titanic, feature='Sex', categories=[\"male\", \"female\"])"
   ],
   "metadata": {
    "collapsed": false,
    "pycharm": {
     "name": "#%%\n"
    }
   }
  },
  {
   "cell_type": "markdown",
   "source": [
    "###### Sex explained:\n",
    "As seen from a cell above we do not have any missing data on the Sex attribute.\n",
    "\n",
    "We can see that there is an imbalance in the partition according to Sex and the data is biased to the male category, meaning most of the passengers are males."
   ],
   "metadata": {
    "collapsed": false,
    "pycharm": {
     "name": "#%% md\n"
    }
   }
  },
  {
   "cell_type": "markdown",
   "source": [
    "## Age"
   ],
   "metadata": {
    "collapsed": false,
    "pycharm": {
     "name": "#%% md\n"
    }
   }
  },
  {
   "cell_type": "code",
   "execution_count": 57,
   "outputs": [
    {
     "data": {
      "text/plain": "<Figure size 432x288 with 1 Axes>",
      "image/png": "[encoded data removed]"
     },
     "metadata": {},
     "output_type": "display_data"
    }
   ],
   "source": [
    "hist_and_kde(titanic, 'Age')"
   ],
   "metadata": {
    "collapsed": false,
    "pycharm": {
     "name": "#%%\n"
    }
   }
  },
  {
   "cell_type": "code",
   "execution_count": 58,
   "outputs": [
    {
     "name": "stdout",
     "output_type": "stream",
     "text": [
      "Skewness: 0.389\n",
      "Kurtosis: 0.178\n"
     ]
    }
   ],
   "source": [
    "skewness_and_kurtosis(titanic, 'Age')"
   ],
   "metadata": {
    "collapsed": false,
    "pycharm": {
     "name": "#%%\n"
    }
   }
  },
  {
   "cell_type": "code",
   "execution_count": 59,
   "outputs": [
    {
     "data": {
      "text/plain": "<Figure size 432x288 with 1 Axes>",
      "image/png": "[encoded data removed]"
     },
     "metadata": {},
     "output_type": "display_data"
    }
   ],
   "source": [
    "qqplot(titanic, 'Age')"
   ],
   "metadata": {
    "collapsed": false,
    "pycharm": {
     "name": "#%%\n"
    }
   }
  },
  {
   "cell_type": "code",
   "execution_count": 60,
   "outputs": [
    {
     "data": {
      "text/plain": "          shapiro  normaltest  chisquare\nAge  7.322166e-08    0.000117        0.0",
      "text/html": "<div>\n<style scoped>\n    .dataframe tbody tr th:only-of-type {\n        vertical-align: middle;\n    }\n\n    .dataframe tbody tr th {\n        vertical-align: top;\n    }\n\n    .dataframe thead th {\n        text-align: right;\n    }\n</style>\n<table border=\"1\" class=\"dataframe\">\n  <thead>\n    <tr style=\"text-align: right;\">\n      <th></th>\n      <th>shapiro</th>\n      <th>normaltest</th>\n      <th>chisquare</th>\n    </tr>\n  </thead>\n  <tbody>\n    <tr>\n      <th>Age</th>\n      <td>7.322166e-08</td>\n      <td>0.000117</td>\n      <td>0.0</td>\n    </tr>\n  </tbody>\n</table>\n</div>"
     },
     "execution_count": 60,
     "metadata": {},
     "output_type": "execute_result"
    }
   ],
   "source": [
    "age_normal_tests = normality_tests(titanic, 'Age')\n",
    "age_normal_tests"
   ],
   "metadata": {
    "collapsed": false,
    "pycharm": {
     "name": "#%%\n"
    }
   }
  },
  {
   "cell_type": "code",
   "execution_count": 61,
   "outputs": [
    {
     "name": "stdout",
     "output_type": "stream",
     "text": [
      "The interquartile range: [20.125, 38.0]\n",
      "The outliers' bounds are: lower bound=-6.688, upper bound=64.812\n"
     ]
    },
    {
     "data": {
      "text/plain": "<Figure size 504x432 with 1 Axes>",
      "image/png": "[encoded data removed]"
     },
     "metadata": {},
     "output_type": "display_data"
    }
   ],
   "source": [
    "boxplot_and_outliers(titanic, 'Age')"
   ],
   "metadata": {
    "collapsed": false,
    "pycharm": {
     "name": "#%%\n"
    }
   }
  },
  {
   "cell_type": "code",
   "execution_count": 62,
   "outputs": [
    {
     "data": {
      "text/plain": "count    714.000000\nmean      29.699118\nstd       14.526497\nmin        0.420000\n25%       20.125000\n50%       28.000000\n75%       38.000000\nmax       80.000000\nName: Age, dtype: float64"
     },
     "execution_count": 62,
     "metadata": {},
     "output_type": "execute_result"
    }
   ],
   "source": [
    "titanic['Age'].describe()  # describe knows how to handle nans"
   ],
   "metadata": {
    "collapsed": false,
    "pycharm": {
     "name": "#%%\n"
    }
   }
  },
  {
   "cell_type": "markdown",
   "source": [
    "###### Age explained:\n",
    "As seen from a cell above we have about 20% of missing data on the Age attribute.\n",
    "\n",
    "From the histogram it's hard to conclude that the distribution is a normal distribution (statistical tests will be done - maybe after imputing will improve), and from the skewnees value we get not so large positive skew, which means the data is skewed to the right by some amount (we have some \"outliers\" of old passengers). Kurtosis' small positive number indicates the peak of the frequency is slightly higher than that of a normal distribution, which indicates on having a (right) heavy tail, or outliers.\n",
    "\n",
    "We define outliers as people with Age higher than the upper whisker bound (upper bound=64.812), and lower than the lower whisker (lower bound=-6.688) which isn't physibily so we won't have any in the lower bound since Age is non-negative. From the boxplot we can see that there aren’t any outliers in the lower side of Age (as expected), and in the upper side of Age there are some outliers. The histogram shows that the majority of people is in the Age range of 20.125-38.0 (our whiskers range).\n",
    "It seems that the Age distribution is quite symmetrical (given the lower bound of 0), around the mean value of 29.69. However, we have more points in the right tail than the left tail (more outliers from the upper bound than from the lower bound).\n",
    "\n",
    "In all the normality tests performed, the null hypothesis is that the data is normally distributed, and alternative hypothesis state the opposite. We get very low p-values from all of the tests performed so we cannot conclude our Age attribute is normally distributed. However, according to the histogram and the QQ-plot it seems that it could be normally distributed and if we had more data we could get higher p-values and reject the null hypothesis."
   ],
   "metadata": {
    "collapsed": false,
    "pycharm": {
     "name": "#%% md\n"
    }
   }
  },
  {
   "cell_type": "markdown",
   "source": [
    "## SibSp"
   ],
   "metadata": {
    "collapsed": false,
    "pycharm": {
     "name": "#%% md\n"
    }
   }
  },
  {
   "cell_type": "code",
   "execution_count": 63,
   "outputs": [
    {
     "data": {
      "text/plain": "       Count   Percent\nSibSp                 \n0        608  0.682379\n1        209  0.234568\n2         28  0.031425\n4         18  0.020202\n3         16  0.017957\n8          7  0.007856\n5          5  0.005612",
      "text/html": "<div>\n<style scoped>\n    .dataframe tbody tr th:only-of-type {\n        vertical-align: middle;\n    }\n\n    .dataframe tbody tr th {\n        vertical-align: top;\n    }\n\n    .dataframe thead th {\n        text-align: right;\n    }\n</style>\n<table border=\"1\" class=\"dataframe\">\n  <thead>\n    <tr style=\"text-align: right;\">\n      <th></th>\n      <th>Count</th>\n      <th>Percent</th>\n    </tr>\n    <tr>\n      <th>SibSp</th>\n      <th></th>\n      <th></th>\n    </tr>\n  </thead>\n  <tbody>\n    <tr>\n      <th>0</th>\n      <td>608</td>\n      <td>0.682379</td>\n    </tr>\n    <tr>\n      <th>1</th>\n      <td>209</td>\n      <td>0.234568</td>\n    </tr>\n    <tr>\n      <th>2</th>\n      <td>28</td>\n      <td>0.031425</td>\n    </tr>\n    <tr>\n      <th>4</th>\n      <td>18</td>\n      <td>0.020202</td>\n    </tr>\n    <tr>\n      <th>3</th>\n      <td>16</td>\n      <td>0.017957</td>\n    </tr>\n    <tr>\n      <th>8</th>\n      <td>7</td>\n      <td>0.007856</td>\n    </tr>\n    <tr>\n      <th>5</th>\n      <td>5</td>\n      <td>0.005612</td>\n    </tr>\n  </tbody>\n</table>\n</div>"
     },
     "execution_count": 63,
     "metadata": {},
     "output_type": "execute_result"
    }
   ],
   "source": [
    "count_per_sibsp = create_df_for_numeric_cateforical(titanic, 'SibSp')\n",
    "count_per_sibsp"
   ],
   "metadata": {
    "collapsed": false,
    "pycharm": {
     "name": "#%%\n"
    }
   }
  },
  {
   "cell_type": "code",
   "execution_count": 64,
   "outputs": [
    {
     "name": "stdout",
     "output_type": "stream",
     "text": [
      "The interquartile range: [0.0, 1.0]\n",
      "The outliers' bounds are: lower bound=-1.500, upper bound=2.500\n"
     ]
    },
    {
     "data": {
      "text/plain": "<Figure size 504x432 with 1 Axes>",
      "image/png": "[encoded data removed]"
     },
     "metadata": {},
     "output_type": "display_data"
    }
   ],
   "source": [
    "boxplot_and_outliers(titanic, 'SibSp')"
   ],
   "metadata": {
    "collapsed": false,
    "pycharm": {
     "name": "#%%\n"
    }
   }
  },
  {
   "cell_type": "markdown",
   "source": [
    "###### SibSp explained:\n",
    "As seen from a cell above we do not have any missing data on the SibSp attribute.\n",
    "\n",
    "We conclude that most of passengers came with 0 or 1, sibling\\spouse. According to boxplot outliers people with more that 2 siblings\\spouses is quite unusual."
   ],
   "metadata": {
    "collapsed": false,
    "pycharm": {
     "name": "#%% md\n"
    }
   }
  },
  {
   "cell_type": "markdown",
   "source": [
    "## Parch"
   ],
   "metadata": {
    "collapsed": false,
    "pycharm": {
     "name": "#%% md\n"
    }
   }
  },
  {
   "cell_type": "code",
   "execution_count": 65,
   "outputs": [
    {
     "data": {
      "text/plain": "       Count   Percent\nParch                 \n0        678  0.760943\n1        118  0.132435\n2         80  0.089787\n3          5  0.005612\n5          5  0.005612\n4          4  0.004489\n6          1  0.001122",
      "text/html": "<div>\n<style scoped>\n    .dataframe tbody tr th:only-of-type {\n        vertical-align: middle;\n    }\n\n    .dataframe tbody tr th {\n        vertical-align: top;\n    }\n\n    .dataframe thead th {\n        text-align: right;\n    }\n</style>\n<table border=\"1\" class=\"dataframe\">\n  <thead>\n    <tr style=\"text-align: right;\">\n      <th></th>\n      <th>Count</th>\n      <th>Percent</th>\n    </tr>\n    <tr>\n      <th>Parch</th>\n      <th></th>\n      <th></th>\n    </tr>\n  </thead>\n  <tbody>\n    <tr>\n      <th>0</th>\n      <td>678</td>\n      <td>0.760943</td>\n    </tr>\n    <tr>\n      <th>1</th>\n      <td>118</td>\n      <td>0.132435</td>\n    </tr>\n    <tr>\n      <th>2</th>\n      <td>80</td>\n      <td>0.089787</td>\n    </tr>\n    <tr>\n      <th>3</th>\n      <td>5</td>\n      <td>0.005612</td>\n    </tr>\n    <tr>\n      <th>5</th>\n      <td>5</td>\n      <td>0.005612</td>\n    </tr>\n    <tr>\n      <th>4</th>\n      <td>4</td>\n      <td>0.004489</td>\n    </tr>\n    <tr>\n      <th>6</th>\n      <td>1</td>\n      <td>0.001122</td>\n    </tr>\n  </tbody>\n</table>\n</div>"
     },
     "execution_count": 65,
     "metadata": {},
     "output_type": "execute_result"
    }
   ],
   "source": [
    "count_per_parch = create_df_for_numeric_cateforical(titanic, 'Parch')\n",
    "count_per_parch"
   ],
   "metadata": {
    "collapsed": false,
    "pycharm": {
     "name": "#%%\n"
    }
   }
  },
  {
   "cell_type": "code",
   "execution_count": 66,
   "outputs": [
    {
     "name": "stdout",
     "output_type": "stream",
     "text": [
      "The interquartile range: [0.0, 0.0]\n",
      "The outliers' bounds are: lower bound=0.000, upper bound=0.000\n"
     ]
    },
    {
     "data": {
      "text/plain": "<Figure size 504x432 with 1 Axes>",
      "image/png": "[encoded data removed]"
     },
     "metadata": {},
     "output_type": "display_data"
    }
   ],
   "source": [
    "boxplot_and_outliers(titanic, 'Parch')"
   ],
   "metadata": {
    "collapsed": false,
    "pycharm": {
     "name": "#%%\n"
    }
   }
  },
  {
   "cell_type": "markdown",
   "source": [
    "###### Parch explained:\n",
    "As seen from a cell above we do not have any missing data on the Parch attribute.\n",
    "\n",
    "We conclude most of passengers didn't travel with parents or children which fits the Age distribution (most passengers are adults)."
   ],
   "metadata": {
    "collapsed": false,
    "pycharm": {
     "name": "#%% md\n"
    }
   }
  },
  {
   "cell_type": "markdown",
   "source": [
    "## Ticket"
   ],
   "metadata": {
    "collapsed": false,
    "pycharm": {
     "name": "#%% md\n"
    }
   }
  },
  {
   "cell_type": "code",
   "execution_count": 67,
   "outputs": [],
   "source": [
    "# come back later"
   ],
   "metadata": {
    "collapsed": false,
    "pycharm": {
     "name": "#%%\n"
    }
   }
  },
  {
   "cell_type": "markdown",
   "source": [
    "## Fare"
   ],
   "metadata": {
    "collapsed": false,
    "pycharm": {
     "name": "#%% md\n"
    }
   }
  },
  {
   "cell_type": "code",
   "execution_count": 68,
   "outputs": [
    {
     "data": {
      "text/plain": "<Figure size 432x288 with 1 Axes>",
      "image/png": "[encoded data removed]"
     },
     "metadata": {},
     "output_type": "display_data"
    }
   ],
   "source": [
    "hist_and_kde(titanic, 'Fare')"
   ],
   "metadata": {
    "collapsed": false,
    "pycharm": {
     "name": "#%%\n"
    }
   }
  },
  {
   "cell_type": "code",
   "execution_count": 69,
   "outputs": [
    {
     "name": "stderr",
     "output_type": "stream",
     "text": [
      "Values less than or equal to 0 in data. Throwing out 0 or negative values\n"
     ]
    },
    {
     "name": "stdout",
     "output_type": "stream",
     "text": [
      "Calculating best minimal value for power law fit\n",
      "xmin progress: 99%\r"
     ]
    },
    {
     "data": {
      "text/plain": "<Figure size 432x288 with 1 Axes>",
      "image/png": "[encoded data removed]"
     },
     "metadata": {},
     "output_type": "display_data"
    }
   ],
   "source": [
    "log_log_plot(titanic, 'Fare')"
   ],
   "metadata": {
    "collapsed": false,
    "pycharm": {
     "name": "#%%\n"
    }
   }
  },
  {
   "cell_type": "code",
   "execution_count": 70,
   "outputs": [
    {
     "name": "stdout",
     "output_type": "stream",
     "text": [
      "The interquartile range: [7.9104, 31.0]\n",
      "The outliers' bounds are: lower bound=-26.724, upper bound=65.634\n"
     ]
    },
    {
     "data": {
      "text/plain": "<Figure size 504x432 with 1 Axes>",
      "image/png": "[encoded data removed]"
     },
     "metadata": {},
     "output_type": "display_data"
    }
   ],
   "source": [
    "boxplot_and_outliers(titanic, 'Fare')"
   ],
   "metadata": {
    "collapsed": false,
    "pycharm": {
     "name": "#%%\n"
    }
   }
  },
  {
   "cell_type": "code",
   "execution_count": 71,
   "outputs": [
    {
     "data": {
      "text/plain": "         Count   Percent\nFare                    \n8.0500      43  0.048260\n13.0000     42  0.047138\n7.8958      38  0.042649\n7.7500      34  0.038159\n26.0000     31  0.034792\n...        ...       ...\n8.1125       1  0.001122\n8.1375       1  0.001122\n17.4000      1  0.001122\n8.1583       1  0.001122\n7.7292       1  0.001122\n\n[248 rows x 2 columns]",
      "text/html": "<div>\n<style scoped>\n    .dataframe tbody tr th:only-of-type {\n        vertical-align: middle;\n    }\n\n    .dataframe tbody tr th {\n        vertical-align: top;\n    }\n\n    .dataframe thead th {\n        text-align: right;\n    }\n</style>\n<table border=\"1\" class=\"dataframe\">\n  <thead>\n    <tr style=\"text-align: right;\">\n      <th></th>\n      <th>Count</th>\n      <th>Percent</th>\n    </tr>\n    <tr>\n      <th>Fare</th>\n      <th></th>\n      <th></th>\n    </tr>\n  </thead>\n  <tbody>\n    <tr>\n      <th>8.0500</th>\n      <td>43</td>\n      <td>0.048260</td>\n    </tr>\n    <tr>\n      <th>13.0000</th>\n      <td>42</td>\n      <td>0.047138</td>\n    </tr>\n    <tr>\n      <th>7.8958</th>\n      <td>38</td>\n      <td>0.042649</td>\n    </tr>\n    <tr>\n      <th>7.7500</th>\n      <td>34</td>\n      <td>0.038159</td>\n    </tr>\n    <tr>\n      <th>26.0000</th>\n      <td>31</td>\n      <td>0.034792</td>\n    </tr>\n    <tr>\n      <th>...</th>\n      <td>...</td>\n      <td>...</td>\n    </tr>\n    <tr>\n      <th>8.1125</th>\n      <td>1</td>\n      <td>0.001122</td>\n    </tr>\n    <tr>\n      <th>8.1375</th>\n      <td>1</td>\n      <td>0.001122</td>\n    </tr>\n    <tr>\n      <th>17.4000</th>\n      <td>1</td>\n      <td>0.001122</td>\n    </tr>\n    <tr>\n      <th>8.1583</th>\n      <td>1</td>\n      <td>0.001122</td>\n    </tr>\n    <tr>\n      <th>7.7292</th>\n      <td>1</td>\n      <td>0.001122</td>\n    </tr>\n  </tbody>\n</table>\n<p>248 rows × 2 columns</p>\n</div>"
     },
     "execution_count": 71,
     "metadata": {},
     "output_type": "execute_result"
    }
   ],
   "source": [
    "count_per_fare = create_df_for_numeric_cateforical(titanic, 'Fare')\n",
    "count_per_fare"
   ],
   "metadata": {
    "collapsed": false,
    "pycharm": {
     "name": "#%%\n"
    }
   }
  },
  {
   "cell_type": "code",
   "execution_count": 72,
   "outputs": [
    {
     "data": {
      "text/plain": "count    891.000000\nmean      32.204208\nstd       49.693429\nmin        0.000000\n25%        7.910400\n50%       14.454200\n75%       31.000000\nmax      512.329200\nName: Fare, dtype: float64"
     },
     "execution_count": 72,
     "metadata": {},
     "output_type": "execute_result"
    }
   ],
   "source": [
    "titanic['Fare'].describe()  # describe knows how to handle nans"
   ],
   "metadata": {
    "collapsed": false,
    "pycharm": {
     "name": "#%%\n"
    }
   }
  },
  {
   "cell_type": "markdown",
   "source": [
    "###### Fare explained:\n",
    "As seen from a cell above we do not have any missing data on the Fare attribute."
   ],
   "metadata": {
    "collapsed": false,
    "pycharm": {
     "name": "#%% md\n"
    }
   }
  },
  {
   "cell_type": "markdown",
   "source": [
    "## Cabin"
   ],
   "metadata": {
    "collapsed": false,
    "pycharm": {
     "name": "#%% md\n"
    }
   }
  },
  {
   "cell_type": "code",
   "execution_count": 73,
   "outputs": [
    {
     "data": {
      "text/plain": "array(['n', 'C', 'E', 'G', 'D', 'A', 'B', 'F', 'T'], dtype=object)"
     },
     "execution_count": 73,
     "metadata": {},
     "output_type": "execute_result"
    }
   ],
   "source": [
    "# come back later\n",
    "cabins = titanic['Cabin'].astype(str)\n",
    "cabin_char = [cab[0] for cab in cabins]  # when NaN then char would be 'n'\n",
    "titanic['CabinChar'] = cabin_char\n",
    "titanic['CabinChar'].unique()"
   ],
   "metadata": {
    "collapsed": false,
    "pycharm": {
     "name": "#%%\n"
    }
   }
  },
  {
   "cell_type": "code",
   "execution_count": 74,
   "outputs": [
    {
     "data": {
      "text/plain": "           Count   Percent\nCabinChar                 \nn            687  0.771044\nC             59  0.066218\nB             47  0.052750\nD             33  0.037037\nE             32  0.035915\nA             15  0.016835\nF             13  0.014590\nG              4  0.004489\nT              1  0.001122",
      "text/html": "<div>\n<style scoped>\n    .dataframe tbody tr th:only-of-type {\n        vertical-align: middle;\n    }\n\n    .dataframe tbody tr th {\n        vertical-align: top;\n    }\n\n    .dataframe thead th {\n        text-align: right;\n    }\n</style>\n<table border=\"1\" class=\"dataframe\">\n  <thead>\n    <tr style=\"text-align: right;\">\n      <th></th>\n      <th>Count</th>\n      <th>Percent</th>\n    </tr>\n    <tr>\n      <th>CabinChar</th>\n      <th></th>\n      <th></th>\n    </tr>\n  </thead>\n  <tbody>\n    <tr>\n      <th>n</th>\n      <td>687</td>\n      <td>0.771044</td>\n    </tr>\n    <tr>\n      <th>C</th>\n      <td>59</td>\n      <td>0.066218</td>\n    </tr>\n    <tr>\n      <th>B</th>\n      <td>47</td>\n      <td>0.052750</td>\n    </tr>\n    <tr>\n      <th>D</th>\n      <td>33</td>\n      <td>0.037037</td>\n    </tr>\n    <tr>\n      <th>E</th>\n      <td>32</td>\n      <td>0.035915</td>\n    </tr>\n    <tr>\n      <th>A</th>\n      <td>15</td>\n      <td>0.016835</td>\n    </tr>\n    <tr>\n      <th>F</th>\n      <td>13</td>\n      <td>0.014590</td>\n    </tr>\n    <tr>\n      <th>G</th>\n      <td>4</td>\n      <td>0.004489</td>\n    </tr>\n    <tr>\n      <th>T</th>\n      <td>1</td>\n      <td>0.001122</td>\n    </tr>\n  </tbody>\n</table>\n</div>"
     },
     "execution_count": 74,
     "metadata": {},
     "output_type": "execute_result"
    }
   ],
   "source": [
    "count_per_cabin_char = create_df_for_numeric_cateforical(titanic, 'CabinChar')\n",
    "count_per_cabin_char"
   ],
   "metadata": {
    "collapsed": false,
    "pycharm": {
     "name": "#%%\n"
    }
   }
  },
  {
   "cell_type": "code",
   "execution_count": 75,
   "outputs": [
    {
     "data": {
      "text/plain": "<Figure size 432x288 with 1 Axes>",
      "image/png": "[encoded data removed]"
     },
     "metadata": {},
     "output_type": "display_data"
    }
   ],
   "source": [
    "count_plot(titanic, 'CabinChar')"
   ],
   "metadata": {
    "collapsed": false,
    "pycharm": {
     "name": "#%%\n"
    }
   }
  },
  {
   "cell_type": "markdown",
   "source": [
    "###### Cabin explained:\n",
    "As seen from a cell above we do have 77% missing data on the Cabin attribute."
   ],
   "metadata": {
    "collapsed": false,
    "pycharm": {
     "name": "#%% md\n"
    }
   }
  },
  {
   "cell_type": "markdown",
   "source": [
    "## Embarked"
   ],
   "metadata": {
    "collapsed": false,
    "pycharm": {
     "name": "#%% md\n"
    }
   }
  },
  {
   "cell_type": "code",
   "execution_count": 76,
   "outputs": [
    {
     "data": {
      "text/plain": "<Figure size 576x360 with 1 Axes>",
      "image/png": "[encoded data removed]"
     },
     "metadata": {},
     "output_type": "display_data"
    }
   ],
   "source": [
    "pie_chart(titanic, feature='Embarked', categories=['C', 'Q', 'S'])"
   ],
   "metadata": {
    "collapsed": false,
    "pycharm": {
     "name": "#%%\n"
    }
   }
  },
  {
   "cell_type": "markdown",
   "source": [
    "###### Embarked explained:\n",
    "As seen from a cell above we do have 2 rows of missing data on the Embarked attribute (0.2245%).\n",
    "\n",
    "The titanic embarked from Southampton, which is where most of the passengers embarked too (72.44%). Its next stop was in Cherbourg and more passenger got into the titanic (18.9%) and at the last port being Queenstown some more passengers joined the ride (8.66%). It makes sense that the most amount of passengers embarked at the starting port of the titanic and as continuing less new passengers are embarking."
   ],
   "metadata": {
    "collapsed": false,
    "pycharm": {
     "name": "#%% md\n"
    }
   }
  },
  {
   "cell_type": "markdown",
   "source": [
    "# 2. Bivariate Analysis"
   ],
   "metadata": {
    "collapsed": false,
    "pycharm": {
     "name": "#%% md\n"
    }
   }
  },
  {
   "cell_type": "code",
   "execution_count": 77,
   "metadata": {},
   "outputs": [],
   "source": [
    "count_plot(titanic, 'CabinChar')"
   ]
  },
  {
   "cell_type": "markdown",
   "metadata": {},
   "source": [
    "###### Cabin explained:\n",
    "As seen from a cell above we do have 77% missing data on the Cabin attribute."
   ]
  },
  {
   "cell_type": "markdown",
   "metadata": {
    "pycharm": {
     "name": "#%% md\n"
    }
   },
   "source": [
    "## Embarked"
   ]
  },
  {
   "cell_type": "code",
   "execution_count": 44,
   "metadata": {
    "pycharm": {
     "name": "#%%\n"
    }
   },
   "outputs": [
    {
     "data": {
      "image/png": "[encoded data removed]",
      "text/plain": [
       "<Figure size 576x360 with 1 Axes>"
      ]
     },
     "metadata": {},
     "output_type": "display_data"
    }
   ],
   "source": [
    "pie_chart(titanic, feature='Embarked', categories=['C', 'Q', 'S'])"
   ]
  },
  {
   "cell_type": "markdown",
   "metadata": {},
   "source": [
    "###### Embarked explained:\n",
    "As seen from a cell above we do have 2 rows of missing data on the Embarked attribute (0.2245%).\n",
    "\n",
    "The titanic embarked from Southampton, which is where most of the passengers embarked too (72.44%). Its next stop was in Cherbourg and more passenger got into the titanic (18.9%) and at the last port being Queenstown some more passengers joined the ride (8.66%). It makes sense that the most amount of passengers embarked at the starting port of the titanic and as continuing less new passengers are embarking."
   ]
  },
  {
   "cell_type": "markdown",
   "metadata": {},
   "source": [
    "# 2. Bivariate Analysis"
   ]
  },
  {
   "cell_type": "markdown",
   "metadata": {},
   "source": [
    "#  Examining each feature correlation to Survived target variable"
   ]
  }
 ],
 "metadata": {
  "kernelspec": {
   "display_name": "Python 3 (ipykernel)",
   "language": "python",
   "name": "python3"
  },
  "language_info": {
   "codemirror_mode": {
    "name": "ipython",
    "version": 3
   },
   "file_extension": ".py",
   "mimetype": "text/x-python",
   "name": "python",
   "nbconvert_exporter": "python",
   "pygments_lexer": "ipython3",
   "version": "3.8.13"
  }
 },
 "nbformat": 4,
 "nbformat_minor": 1
}